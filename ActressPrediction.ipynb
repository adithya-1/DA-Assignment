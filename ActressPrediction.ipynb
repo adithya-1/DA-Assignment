{
 "cells": [
  {
   "cell_type": "code",
   "execution_count": 1,
   "metadata": {},
   "outputs": [],
   "source": [
    "import pandas as pd\n",
    "import numpy as np"
   ]
  },
  {
   "cell_type": "code",
   "execution_count": 2,
   "metadata": {},
   "outputs": [],
   "source": [
    "df=pd.read_csv(\"Data For Prediction.csv\")\n"
   ]
  },
  {
   "cell_type": "code",
   "execution_count": 3,
   "metadata": {},
   "outputs": [],
   "source": [
    "from sklearn.linear_model import LinearRegression\n",
    "from sklearn.model_selection import train_test_split\n"
   ]
  },
  {
   "cell_type": "code",
   "execution_count": 4,
   "metadata": {},
   "outputs": [],
   "source": [
    "train=df.drop(\n",
    "    [\n",
    "#    'year',\n",
    "  'certificate',\n",
    "#     'movie', \n",
    "\n",
    "    'genre', \n",
    "   'rate',\n",
    "    'metascore', \n",
    "     'votes',\n",
    "#      'gross', \n",
    "     'user_reviews',\n",
    "     'critic_reviews',\n",
    "     'popularity', \n",
    "     'awards_wins',\n",
    "     'awards_nominations',\n",
    " 'Oscar_Best_Picture_won',\n",
    "'Oscar_Best_Picture_nominated', \n",
    "    'Oscar_Best_Director_won',\n",
    "      \n",
    "#    'Oscar_Best_Director_nominated',\n",
    "    'Oscar_Best_Actor_won',\n",
    "#     'Oscar_Best_Actor_nominated', \n",
    "    'Oscar_Best_Actress_won',\n",
    "#    'Oscar_Best_Actress_nominated',\n",
    "   'other_bestPicture_won',\n",
    "     'other_director_won', \n",
    "    'other_actor_won', \n",
    "   'other_actress_won',\n",
    "    'other_bestPicture_nominated', \n",
    "     'other_director_nominated',\n",
    "       'other_actor_nominated',\n",
    "#     'other_actress_nominated'\n",
    "    ],\n",
    "     \n",
    "     \n",
    "     \n",
    "     \n",
    "     \n",
    "    axis=1)"
   ]
  },
  {
   "cell_type": "code",
   "execution_count": 5,
   "metadata": {},
   "outputs": [],
   "source": [
    "train=df.drop(\n",
    "    [\n",
    "  \n",
    "        #'year',\n",
    "  'certificate',\n",
    "    #'movie', \n",
    "\n",
    "    'genre', \n",
    "   'rate',\n",
    "    'metascore', \n",
    "     'votes',\n",
    " #    'gross', \n",
    "     'user_reviews',\n",
    "     'critic_reviews',\n",
    "     'popularity', \n",
    "  #   'awards_wins',\n",
    "     'awards_nominations',\n",
    " 'Oscar_Best_Picture_won',\n",
    "#'Oscar_Best_Picture_nominated', \n",
    "    'Oscar_Best_Director_won',\n",
    "      \n",
    "   #'Oscar_Best_Director_nominated',\n",
    "    'Oscar_Best_Actor_won',\n",
    "    #'Oscar_Best_Actor_nominated', \n",
    "    'Oscar_Best_Actress_won',\n",
    "   #'Oscar_Best_Actress_nominated',\n",
    "   'other_bestPicture_won',\n",
    "     'other_director_won', \n",
    "    'other_actor_won', \n",
    "   'other_actress_won',\n",
    "    'other_bestPicture_nominated', \n",
    "     'other_director_nominated',\n",
    "       'other_actor_nominated',\n",
    " #   'other_actress_nominated'\n",
    "    ],\n",
    "     \n",
    "     \n",
    "     \n",
    "     \n",
    "     \n",
    "    axis=1)"
   ]
  },
  {
   "cell_type": "code",
   "execution_count": 6,
   "metadata": {},
   "outputs": [],
   "source": [
    "test=pd.DataFrame()"
   ]
  },
  {
   "cell_type": "code",
   "execution_count": 7,
   "metadata": {},
   "outputs": [],
   "source": [
    "test['Oscar_Best_Actress_won']=df['Oscar_Best_Actress_won']\n"
   ]
  },
  {
   "cell_type": "code",
   "execution_count": 8,
   "metadata": {},
   "outputs": [],
   "source": [
    "X_train=[]\n",
    "Y_train=[]\n",
    "X_test=[]\n",
    "Y_test=[]\n",
    "for i in train.index:\n",
    "    if(int(train['year'][i])<2017):\n",
    "\n",
    "        X_train.append(train.iloc[i])\n",
    "        Y_train.append(test['Oscar_Best_Actress_won'][i])\n",
    "    else:\n",
    "        X_test.append(train.iloc[i])\n",
    "        Y_test.append(test['Oscar_Best_Actress_won'][i])\n",
    "        "
   ]
  },
  {
   "cell_type": "code",
   "execution_count": 9,
   "metadata": {},
   "outputs": [],
   "source": [
    "X_train=pd.DataFrame(X_train)\n",
    "Y_train=pd.DataFrame(Y_train)\n",
    "X_test=pd.DataFrame(X_test)\n",
    "Y_test=pd.DataFrame(Y_test)"
   ]
  },
  {
   "cell_type": "code",
   "execution_count": 10,
   "metadata": {},
   "outputs": [],
   "source": [
    "movie=X_test['movie']\n",
    "\n",
    "X_train=X_train.drop(['movie'],axis=1)\n",
    "X_test=X_test.drop(['movie'],axis=1)"
   ]
  },
  {
   "cell_type": "code",
   "execution_count": 11,
   "metadata": {},
   "outputs": [],
   "source": [
    "X_train=(X_train-X_train.min())/(X_train.max()-X_train.min())\n",
    "Y_train=(Y_train-Y_train.min())/(Y_train.max()-Y_train.min())\n",
    "X_test=(X_test-X_test.min())/(X_test.max()-X_test.min())\n",
    "Y_test=(Y_test-Y_test.min())/(Y_test.max()-Y_test.min())"
   ]
  },
  {
   "cell_type": "code",
   "execution_count": 12,
   "metadata": {},
   "outputs": [],
   "source": [
    "X_train=X_train.drop(['year'],axis=1)\n",
    "X_test=X_test.drop(['year'],axis=1)"
   ]
  },
  {
   "cell_type": "code",
   "execution_count": 13,
   "metadata": {},
   "outputs": [
    {
     "name": "stdout",
     "output_type": "stream",
     "text": [
      "0.14429913828661045\n"
     ]
    }
   ],
   "source": [
    "regr=LinearRegression()\n",
    "regr.fit(X_train,Y_train)\n",
    "pred=regr.predict(X_test)\n",
    "print(regr.score(X_test,Y_test))\n",
    "df_norm=pd.DataFrame(pred)\n",
    "df_norm=(df_norm-df_norm.min())/(df_norm.max()-df_norm.min())\n"
   ]
  },
  {
   "cell_type": "code",
   "execution_count": 14,
   "metadata": {},
   "outputs": [
    {
     "data": {
      "text/html": [
       "<div>\n",
       "<style scoped>\n",
       "    .dataframe tbody tr th:only-of-type {\n",
       "        vertical-align: middle;\n",
       "    }\n",
       "\n",
       "    .dataframe tbody tr th {\n",
       "        vertical-align: top;\n",
       "    }\n",
       "\n",
       "    .dataframe thead th {\n",
       "        text-align: right;\n",
       "    }\n",
       "</style>\n",
       "<table border=\"1\" class=\"dataframe\">\n",
       "  <thead>\n",
       "    <tr style=\"text-align: right;\">\n",
       "      <th></th>\n",
       "      <th>0</th>\n",
       "    </tr>\n",
       "  </thead>\n",
       "  <tbody>\n",
       "    <tr>\n",
       "      <th>23</th>\n",
       "      <td>1.000000</td>\n",
       "    </tr>\n",
       "    <tr>\n",
       "      <th>15</th>\n",
       "      <td>0.863927</td>\n",
       "    </tr>\n",
       "    <tr>\n",
       "      <th>17</th>\n",
       "      <td>0.816711</td>\n",
       "    </tr>\n",
       "    <tr>\n",
       "      <th>22</th>\n",
       "      <td>0.603598</td>\n",
       "    </tr>\n",
       "    <tr>\n",
       "      <th>29</th>\n",
       "      <td>0.547240</td>\n",
       "    </tr>\n",
       "  </tbody>\n",
       "</table>\n",
       "</div>"
      ],
      "text/plain": [
       "           0\n",
       "23  1.000000\n",
       "15  0.863927\n",
       "17  0.816711\n",
       "22  0.603598\n",
       "29  0.547240"
      ]
     },
     "execution_count": 14,
     "metadata": {},
     "output_type": "execute_result"
    }
   ],
   "source": [
    "df_norm.sort_values(by=[0],ascending=False).head(5)"
   ]
  },
  {
   "cell_type": "code",
   "execution_count": 15,
   "metadata": {},
   "outputs": [
    {
     "name": "stdout",
     "output_type": "stream",
     "text": [
      "The Shape of Water:0.24913345627228115\n",
      "Lady Bird:0.21743843638399737\n",
      "Three Billboards Outside Ebbing, Missouri:0.20741035872494742\n",
      "I, Tonya:0.16760102597556908\n",
      "The Post:0.158416722643205\n"
     ]
    }
   ],
   "source": [
    "indexList=df_norm.sort_values(by=[0],ascending=False).head(5).index.to_list()\n",
    "sort=df_norm.sort_values(by=[0],ascending=False).head(5)\n",
    "movie=pd.DataFrame(movie.values)\n",
    "\n",
    "deno=0\n",
    "for i in indexList:\n",
    "    deno+=np.exp(sort[0][i])\n",
    "for i in indexList:\n",
    "    print(movie[0][i],np.exp(sort[0][i])/deno,sep=':')"
   ]
  },
  {
   "cell_type": "code",
   "execution_count": 31,
   "metadata": {},
   "outputs": [
    {
     "data": {
      "text/plain": [
       "0    1.0\n",
       "Name: 17, dtype: float64"
      ]
     },
     "execution_count": 31,
     "metadata": {},
     "output_type": "execute_result"
    }
   ],
   "source": [
    "Y_test.iloc[17]"
   ]
  },
  {
   "cell_type": "code",
   "execution_count": 44,
   "metadata": {},
   "outputs": [
    {
     "data": {
      "image/png": "[encoded data removed]",
      "text/plain": [
       "<Figure size 432x288 with 1 Axes>"
      ]
     },
     "metadata": {
      "needs_background": "light"
     },
     "output_type": "display_data"
    }
   ],
   "source": [
    "from sklearn.datasets import make_regression\n",
    "from sklearn.linear_model import LinearRegression\n",
    "from matplotlib import pyplot\n",
    "\n",
    "#X, y = make_regression(n_samples=1000, n_features=10, n_informative=5, random_state=1)\n",
    "# define the model\n",
    "model = LinearRegression()\n",
    "# fit the model\n",
    "model.fit(X_train, Y_train)\n",
    "# get importance\n",
    "importance = model.coef_\n",
    "# summarize feature importance\n",
    "a=importance[0]\n",
    "a=sorted(a,reverse=True)\n",
    "\n",
    "b=importance[0]\n",
    "c=[col for col in X_train.columns]\n",
    "dic=dict()\n",
    "for i,v in enumerate(b):\n",
    "    if(v>=0):\n",
    "        dic[c[i]]=v\n",
    "a={k:v for k,v in sorted(dic.items(),reverse=True,key= lambda item:item[1])}\n",
    "\n",
    "# plot feature importance\n",
    "pyplot.bar([x for x in range(len(importance[0]))], importance[0])\n",
    "pyplot.show()"
   ]
  },
  {
   "cell_type": "code",
   "execution_count": 46,
   "metadata": {},
   "outputs": [
    {
     "data": {
      "text/plain": [
       "{'other_actress_nominated': 0.26484455113112837,\n",
       " 'Oscar_Best_Actress_nominated': 0.0826462357219167,\n",
       " 'Oscar_Best_Director_nominated': 0.0727836298457089,\n",
       " 'gross': 0.04556713385532936,\n",
       " 'Oscar_Best_Actor_nominated': 0.011346452813639565}"
      ]
     },
     "execution_count": 46,
     "metadata": {},
     "output_type": "execute_result"
    }
   ],
   "source": [
    "a\n"
   ]
  },
  {
   "cell_type": "code",
   "execution_count": 52,
   "metadata": {},
   "outputs": [
    {
     "data": {
      "image/png": "[encoded data removed]",
      "text/plain": [
       "<Figure size 432x288 with 1 Axes>"
      ]
     },
     "metadata": {},
     "output_type": "display_data"
    }
   ],
   "source": [
    "import matplotlib\n",
    "import matplotlib.pyplot as plt\n",
    "import seaborn as sns\n",
    "matplotlib.style.use('ggplot')\n",
    "x=X_train['other_actress_nominated']\n",
    "y=Y_train[0]\n",
    "plt.scatter(x,y)\n",
    "plt.show()"
   ]
  },
  {
   "cell_type": "code",
   "execution_count": 53,
   "metadata": {},
   "outputs": [
    {
     "data": {
      "text/plain": [
       "{'other_actress_nominated': 0.26484455113112837,\n",
       " 'Oscar_Best_Actress_nominated': 0.0826462357219167,\n",
       " 'Oscar_Best_Director_nominated': 0.0727836298457089,\n",
       " 'gross': 0.04556713385532936,\n",
       " 'Oscar_Best_Actor_nominated': 0.011346452813639565}"
      ]
     },
     "execution_count": 53,
     "metadata": {},
     "output_type": "execute_result"
    }
   ],
   "source": [
    "a"
   ]
  },
  {
   "cell_type": "code",
   "execution_count": 54,
   "metadata": {},
   "outputs": [
    {
     "data": {
      "image/png": "[encoded data removed]",
      "text/plain": [
       "<Figure size 432x288 with 2 Axes>"
      ]
     },
     "metadata": {},
     "output_type": "display_data"
    }
   ],
   "source": [
    "corrDf=pd.DataFrame()\n",
    "corrDf['other_actress_nominated']=X_train['other_actress_nominated']\n",
    "corrDf['Oscar_Best_Actress_nominated']=X_train['Oscar_Best_Actress_nominated']\n",
    "corrDf['Oscar_Best_Director_nominated']=X_train['Oscar_Best_Director_nominated']\n",
    "corrDf['gross']=X_train['gross']\n",
    "corrDf['Oscar_Best_Actor_nominated']=X_train['Oscar_Best_Actor_nominated']\n",
    "\n",
    "corrDf['Oscar_Best_Actress_won']=Y_train[0]\n",
    "sns.heatmap(corrDf.corr());"
   ]
  },
  {
   "cell_type": "code",
   "execution_count": null,
   "metadata": {},
   "outputs": [],
   "source": []
  }
 ],
 "metadata": {
  "kernelspec": {
   "display_name": "Python 3",
   "language": "python",
   "name": "python3"
  },
  "language_info": {
   "codemirror_mode": {
    "name": "ipython",
    "version": 3
   },
   "file_extension": ".py",
   "mimetype": "text/x-python",
   "name": "python",
   "nbconvert_exporter": "python",
   "pygments_lexer": "ipython3",
   "version": "3.7.6"
  }
 },
 "nbformat": 4,
 "nbformat_minor": 4
}
