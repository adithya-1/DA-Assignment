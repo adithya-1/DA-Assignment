{
 "cells": [
  {
   "cell_type": "code",
   "execution_count": 1,
   "metadata": {},
   "outputs": [],
   "source": [
    "from string import ascii_letters\n",
    "import numpy as np\n",
    "import pandas as pd\n",
    "import seaborn as sns\n",
    "import matplotlib.pyplot as plt"
   ]
  },
  {
   "cell_type": "code",
   "execution_count": 3,
   "metadata": {},
   "outputs": [],
   "source": [
    "rs = np.random.RandomState(33)"
   ]
  },
  {
   "cell_type": "code",
   "execution_count": 2,
   "metadata": {},
   "outputs": [],
   "source": [
    "df=pd.read_csv('Oscars.csv')"
   ]
  },
  {
   "cell_type": "code",
   "execution_count": 5,
   "metadata": {},
   "outputs": [],
   "source": [
    "\n"
   ]
  },
  {
   "cell_type": "code",
   "execution_count": 6,
   "metadata": {},
   "outputs": [
    {
     "ename": "AttributeError",
     "evalue": "'Series' object has no attribute 'year'",
     "output_type": "error",
     "traceback": [
      "\u001b[1;31m---------------------------------------------------------------------------\u001b[0m",
      "\u001b[1;31mAttributeError\u001b[0m                            Traceback (most recent call last)",
      "\u001b[1;32m<ipython-input-6-0e212433a750>\u001b[0m in \u001b[0;36m<module>\u001b[1;34m\u001b[0m\n\u001b[1;32m----> 1\u001b[1;33m \u001b[0mcol1\u001b[0m\u001b[1;33m=\u001b[0m\u001b[0mdf\u001b[0m\u001b[1;33m.\u001b[0m\u001b[0mrelease_date\u001b[0m\u001b[1;33m.\u001b[0m\u001b[0myear\u001b[0m\u001b[1;33m\u001b[0m\u001b[1;33m\u001b[0m\u001b[0m\n\u001b[0m\u001b[0;32m      2\u001b[0m \u001b[0mcol2\u001b[0m\u001b[1;33m=\u001b[0m\u001b[0mdf\u001b[0m\u001b[1;33m[\u001b[0m\u001b[1;34m'year'\u001b[0m\u001b[1;33m]\u001b[0m\u001b[1;33m\u001b[0m\u001b[1;33m\u001b[0m\u001b[0m\n",
      "\u001b[1;32mC:\\ProgramData\\Anaconda3\\lib\\site-packages\\pandas\\core\\generic.py\u001b[0m in \u001b[0;36m__getattr__\u001b[1;34m(self, name)\u001b[0m\n\u001b[0;32m   5272\u001b[0m             \u001b[1;32mif\u001b[0m \u001b[0mself\u001b[0m\u001b[1;33m.\u001b[0m\u001b[0m_info_axis\u001b[0m\u001b[1;33m.\u001b[0m\u001b[0m_can_hold_identifiers_and_holds_name\u001b[0m\u001b[1;33m(\u001b[0m\u001b[0mname\u001b[0m\u001b[1;33m)\u001b[0m\u001b[1;33m:\u001b[0m\u001b[1;33m\u001b[0m\u001b[1;33m\u001b[0m\u001b[0m\n\u001b[0;32m   5273\u001b[0m                 \u001b[1;32mreturn\u001b[0m \u001b[0mself\u001b[0m\u001b[1;33m[\u001b[0m\u001b[0mname\u001b[0m\u001b[1;33m]\u001b[0m\u001b[1;33m\u001b[0m\u001b[1;33m\u001b[0m\u001b[0m\n\u001b[1;32m-> 5274\u001b[1;33m             \u001b[1;32mreturn\u001b[0m \u001b[0mobject\u001b[0m\u001b[1;33m.\u001b[0m\u001b[0m__getattribute__\u001b[0m\u001b[1;33m(\u001b[0m\u001b[0mself\u001b[0m\u001b[1;33m,\u001b[0m \u001b[0mname\u001b[0m\u001b[1;33m)\u001b[0m\u001b[1;33m\u001b[0m\u001b[1;33m\u001b[0m\u001b[0m\n\u001b[0m\u001b[0;32m   5275\u001b[0m \u001b[1;33m\u001b[0m\u001b[0m\n\u001b[0;32m   5276\u001b[0m     \u001b[1;32mdef\u001b[0m \u001b[0m__setattr__\u001b[0m\u001b[1;33m(\u001b[0m\u001b[0mself\u001b[0m\u001b[1;33m,\u001b[0m \u001b[0mname\u001b[0m\u001b[1;33m:\u001b[0m \u001b[0mstr\u001b[0m\u001b[1;33m,\u001b[0m \u001b[0mvalue\u001b[0m\u001b[1;33m)\u001b[0m \u001b[1;33m->\u001b[0m \u001b[1;32mNone\u001b[0m\u001b[1;33m:\u001b[0m\u001b[1;33m\u001b[0m\u001b[1;33m\u001b[0m\u001b[0m\n",
      "\u001b[1;31mAttributeError\u001b[0m: 'Series' object has no attribute 'year'"
     ]
    }
   ],
   "source": []
  },
  {
   "cell_type": "code",
   "execution_count": 7,
   "metadata": {},
   "outputs": [
    {
     "ename": "NameError",
     "evalue": "name 'col1' is not defined",
     "output_type": "error",
     "traceback": [
      "\u001b[1;31m---------------------------------------------------------------------------\u001b[0m",
      "\u001b[1;31mNameError\u001b[0m                                 Traceback (most recent call last)",
      "\u001b[1;32m<ipython-input-7-e935a41668b6>\u001b[0m in \u001b[0;36m<module>\u001b[1;34m\u001b[0m\n\u001b[1;32m----> 1\u001b[1;33m \u001b[0mcol1\u001b[0m\u001b[1;33m.\u001b[0m\u001b[0mcorr\u001b[0m\u001b[1;33m(\u001b[0m\u001b[0mcol2\u001b[0m\u001b[1;33m)\u001b[0m\u001b[1;33m\u001b[0m\u001b[1;33m\u001b[0m\u001b[0m\n\u001b[0m",
      "\u001b[1;31mNameError\u001b[0m: name 'col1' is not defined"
     ]
    }
   ],
   "source": [
    "\n"
   ]
  },
  {
   "cell_type": "code",
   "execution_count": 3,
   "metadata": {},
   "outputs": [],
   "source": [
    "for column in list(df.columns):\n",
    "    if(df[column].dtype.name=='object'):\n",
    "        df[column] = df[column].astype('category')\n",
    "        df[column] = df[column].cat.codes\n",
    "        \n",
    "    "
   ]
  },
  {
   "cell_type": "code",
   "execution_count": 31,
   "metadata": {},
   "outputs": [],
   "source": [
    "def get_redundant_pairs(df):\n",
    "    '''Get diagonal and lower triangular pairs of correlation matrix'''\n",
    "    pairs_to_drop = set()\n",
    "    cols = df.columns\n",
    "    for i in range(0, df.shape[1]):\n",
    "        for j in range(0, i+1):\n",
    "            pairs_to_drop.add((cols[i], cols[j]))\n",
    "    return pairs_to_drop\n",
    "def get_top_abs_correlations(df, n=5):\n",
    "    au_corr = df.corr().abs().unstack()\n",
    "    labels_to_drop = get_redundant_pairs(df)\n",
    "    au_corr = au_corr.drop(labels=labels_to_drop).sort_values(ascending=False)\n",
    "    return au_corr[30:90]"
   ]
  },
  {
   "cell_type": "code",
   "execution_count": 12,
   "metadata": {},
   "outputs": [],
   "source": [
    "from IPython.core.interactiveshell import InteractiveShell\n",
    "InteractiveShell.ast_node_interactivity = \"all\""
   ]
  },
  {
   "cell_type": "code",
   "execution_count": 32,
   "metadata": {},
   "outputs": [
    {
     "data": {
      "text/plain": [
       "awards_nominations                                   Golden_Globes_nominated                                      0.812565\n",
       "                                                     Online_Film_Critics_Society_nominated                        0.812523\n",
       "Oscar_nominated                                      BAFTA_nominated                                              0.811826\n",
       "awards_wins                                          Online_Film_Television_Association_won                       0.801686\n",
       "Denver_Film_Critics_Society_won                      Denver_Film_Critics_Society_won_categories                   0.795481\n",
       "awards_wins                                          Online_Film_Television_Association_nominated                 0.791796\n",
       "Oscar_Best_Picture_nominated                         Oscar_nominated                                              0.785793\n",
       "Austin_Film_Critics_Association_won_categories       Austin_Film_Critics_Association_nominated_categories         0.785437\n",
       "Oscar_nominated                                      Critics_Choice_nominated                                     0.785403\n",
       "Los_Angeles_Film_Critics_Association_won_categories  Los_Angeles_Film_Critics_Association_nominated_categories    0.779057\n",
       "awards_wins                                          BAFTA_won                                                    0.774280\n",
       "BAFTA_won                                            BAFTA_won_categories                                         0.773988\n",
       "awards_wins                                          Oscar_nominated                                              0.773292\n",
       "Oscar_nominated                                      Online_Film_Television_Association_nominated                 0.773193\n",
       "People_Choice_won                                    People_Choice_won_categories                                 0.773093\n",
       "Online_Film_Television_Association_nominated         Online_Film_Critics_Society_nominated                        0.769259\n",
       "New_York_Film_Critics_Circle_won                     New_York_Film_Critics_Circle_nominated                       0.767119\n",
       "Online_Film_Television_Association_won               Online_Film_Television_Association_nominated                 0.764971\n",
       "BAFTA_won                                            BAFTA_nominated                                              0.764312\n",
       "Boston_Society_of_Film_Critics_won_categories        Boston_Society_of_Film_Critics_nominated_categories          0.759974\n",
       "Hollywood_Film_nominated                             Hollywood_Film_nominated_categories                          0.758453\n",
       "Oscar_Best_Director_won                              Directors_Guild_won                                          0.755485\n",
       "awards_nominations                                   Oscar_Best_Picture_nominated                                 0.753691\n",
       "Hollywood_Film_won                                   Hollywood_Film_nominated_categories                          0.751529\n",
       "Oscar_nominated                                      Golden_Globes_nominated                                      0.751453\n",
       "Hollywood_Film_won                                   Hollywood_Film_won_categories                                0.750895\n",
       "Hollywood_Film_won_categories                        Hollywood_Film_nominated                                     0.750488\n",
       "awards_wins                                          Online_Film_Critics_Society_nominated                        0.744092\n",
       "awards_nominations                                   Producers_Guild_nominated_categories                         0.741751\n",
       "Online_Film_Critics_Society_won                      Online_Film_Critics_Society_nominated                        0.740814\n",
       "Oscar_Best_Picture_nominated                         Oscar_Best_Director_nominated                                0.738100\n",
       "New_York_Film_Critics_Circle_won                     New_York_Film_Critics_Circle_won_categories                  0.736982\n",
       "votes                                                user_reviews                                                 0.731329\n",
       "People_Choice_nominated                              People_Choice_nominated_categories                           0.730057\n",
       "New_York_Film_Critics_Circle_won_categories          New_York_Film_Critics_Circle_nominated_categories            0.728995\n",
       "awards_wins                                          Online_Film_Critics_Society_won                              0.723864\n",
       "Oscar_Best_Picture_nominated                         Producers_Guild_nominated_categories                         0.723612\n",
       "Oscar_Best_Director_nominated                        Directors_Guild_nominated                                    0.723282\n",
       "Screen_Actors_Guild_nominated                        Screen_Actors_Guild_nominated_categories                     0.722560\n",
       "Golden_Globes_nominated                              Critics_Choice_nominated                                     0.720740\n",
       "Critics_Choice_nominated                             Online_Film_Television_Association_nominated                 0.720491\n",
       "BAFTA_nominated                                      Online_Film_Television_Association_nominated                 0.720166\n",
       "Oscar_Best_Picture_nominated                         Directors_Guild_nominated                                    0.719784\n",
       "Los_Angeles_Film_Critics_Association_won             Los_Angeles_Film_Critics_Association_won_categories          0.719109\n",
       "awards_wins                                          Critics_Choice_nominated                                     0.717754\n",
       "rate                                                 metascore                                                    0.717545\n",
       "Oscar_nominated                                      Directors_Guild_nominated                                    0.716937\n",
       "awards_nominations                                   Critics_Choice_won                                           0.715117\n",
       "Oscar_nominated                                      Producers_Guild_nominated_categories                         0.714953\n",
       "awards_nominations                                   Directors_Guild_nominated                                    0.714245\n",
       "London_Critics_Circle_Film_won                       London_Critics_Circle_Film_nominated                         0.713452\n",
       "Oscar_nominated                                      BAFTA_won                                                    0.713411\n",
       "Oscar_Best_Director_nominated                        Oscar_nominated                                              0.713039\n",
       "awards_nominations                                   London_Critics_Circle_Film_nominated                         0.711478\n",
       "London_Critics_Circle_Film_won                       London_Critics_Circle_Film_won_categories                    0.711226\n",
       "awards_wins                                          Los_Angeles_Film_Critics_Association_nominated               0.705501\n",
       "                                                     BAFTA_nominated                                              0.704485\n",
       "Boston_Society_of_Film_Critics_won                   Boston_Society_of_Film_Critics_won_categories                0.702387\n",
       "Critics_Choice_won                                   Critics_Choice_nominated                                     0.702086\n",
       "Golden_Globes_won                                    Golden_Globes_won_categories                                 0.701953\n",
       "dtype: float64"
      ]
     },
     "execution_count": 32,
     "metadata": {},
     "output_type": "execute_result"
    }
   ],
   "source": [
    "get_top_abs_correlations(df)"
   ]
  },
  {
   "cell_type": "code",
   "execution_count": 18,
   "metadata": {},
   "outputs": [
    {
     "data": {
      "text/plain": [
       "release_date                                 release_date.year                                          0.997876\n",
       "year                                         release_date.year                                          0.996320\n",
       "Hollywood_Film_won                           Hollywood_Film_nominated                                   0.994032\n",
       "Hollywood_Film_won_categories                Hollywood_Film_nominated_categories                        0.991547\n",
       "Directors_Guild_won                          Directors_Guild_won_categories                             0.961488\n",
       "                                                                                                          ...   \n",
       "New_York_Film_Critics_Circle_won_categories  release_date.day-of-week                                   0.000154\n",
       "Directors_Guild_nominated_categories         People_Choice_won_categories                               0.000082\n",
       "Oscar_Best_Actress_won                       Critics_Choice_nominated_categories                        0.000061\n",
       "release_date                                 Online_Film_Television_Association_nominated_categories    0.000049\n",
       "year                                         Directors_Guild_nominated_categories                       0.000021\n",
       "Length: 7021, dtype: float64"
      ]
     },
     "execution_count": 18,
     "metadata": {},
     "output_type": "execute_result"
    }
   ],
   "source": [
    "get_top_abs_correlations(df)"
   ]
  },
  {
   "cell_type": "code",
   "execution_count": null,
   "metadata": {},
   "outputs": [],
   "source": []
  }
 ],
 "metadata": {
  "kernelspec": {
   "display_name": "Python 3",
   "language": "python",
   "name": "python3"
  },
  "language_info": {
   "codemirror_mode": {
    "name": "ipython",
    "version": 3
   },
   "file_extension": ".py",
   "mimetype": "text/x-python",
   "name": "python",
   "nbconvert_exporter": "python",
   "pygments_lexer": "ipython3",
   "version": "3.7.6"
  }
 },
 "nbformat": 4,
 "nbformat_minor": 4
}
