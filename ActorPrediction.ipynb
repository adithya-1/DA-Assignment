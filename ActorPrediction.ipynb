{
 "cells": [
  {
   "cell_type": "code",
   "execution_count": 86,
   "metadata": {},
   "outputs": [],
   "source": [
    "import pandas as pd\n",
    "import numpy as np"
   ]
  },
  {
   "cell_type": "code",
   "execution_count": 87,
   "metadata": {},
   "outputs": [],
   "source": [
    "df=pd.read_csv(\"Data For Prediction.csv\")\n"
   ]
  },
  {
   "cell_type": "code",
   "execution_count": 88,
   "metadata": {},
   "outputs": [],
   "source": [
    "from sklearn.linear_model import LinearRegression\n",
    "from sklearn.model_selection import train_test_split\n"
   ]
  },
  {
   "cell_type": "code",
   "execution_count": 89,
   "metadata": {},
   "outputs": [],
   "source": [
    "train=df.drop(\n",
    "    [\n",
    "   #'year',\n",
    "  #'certificate',\n",
    "    'movie', \n",
    "\n",
    "    'genre', \n",
    "#    'rate',\n",
    "#     'metascore', \n",
    "#      'votes',\n",
    "#      'gross', \n",
    "#      'user_reviews',\n",
    "#      'critic_reviews',\n",
    "#      'popularity', \n",
    "#      'awards_wins',\n",
    "#      'awards_nominations',\n",
    " 'Oscar_Best_Picture_won',\n",
    "#'Oscar_Best_Picture_nominated', \n",
    "    'Oscar_Best_Director_won',\n",
    "      \n",
    "   #'Oscar_Best_Director_nominated',\n",
    "    'Oscar_Best_Actor_won',\n",
    "    #'Oscar_Best_Actor_nominated', \n",
    "    'Oscar_Best_Actress_won',\n",
    "   #'Oscar_Best_Actress_nominated',\n",
    "  #  'other_bestPicture_won',\n",
    "#      'other_director_won', \n",
    "    #'other_actor_won', \n",
    "#    'other_actress_won',\n",
    "   #  'other_bestPicture_nominated', \n",
    "#      'other_director_nominated',\n",
    "#        'other_actor_nominated',\n",
    " #    'other_actress_nominated'\n",
    "    ],\n",
    "     \n",
    "     \n",
    "     \n",
    "     \n",
    "     \n",
    "    axis=1)"
   ]
  },
  {
   "cell_type": "code",
   "execution_count": 90,
   "metadata": {},
   "outputs": [],
   "source": [
    "test=pd.DataFrame()"
   ]
  },
  {
   "cell_type": "code",
   "execution_count": 91,
   "metadata": {},
   "outputs": [
    {
     "data": {
      "text/plain": [
       "Oscar_Best_Actor_won    1\n",
       "Name: 1160, dtype: int64"
      ]
     },
     "execution_count": 91,
     "metadata": {},
     "output_type": "execute_result"
    }
   ],
   "source": [
    "test['Oscar_Best_Actor_won']=df['Oscar_Best_Actor_won']\n",
    "test.iloc[1160]"
   ]
  },
  {
   "cell_type": "code",
   "execution_count": 92,
   "metadata": {},
   "outputs": [],
   "source": [
    "X_train=[]\n",
    "Y_train=[]\n",
    "X_test=[]\n",
    "Y_test=[]\n",
    "for i in train.index:\n",
    "    if(int(train['year'][i])<2017):\n",
    "\n",
    "        X_train.append(train.iloc[i])\n",
    "        Y_train.append(test['Oscar_Best_Actor_won'][i])\n",
    "    else:\n",
    "        X_test.append(train.iloc[i])\n",
    "        Y_test.append(test['Oscar_Best_Actor_won'][i])\n",
    "        "
   ]
  },
  {
   "cell_type": "code",
   "execution_count": null,
   "metadata": {},
   "outputs": [],
   "source": []
  },
  {
   "cell_type": "code",
   "execution_count": 93,
   "metadata": {},
   "outputs": [],
   "source": [
    "X_train=pd.DataFrame(X_train)\n",
    "Y_train=pd.DataFrame(Y_train)\n",
    "X_test=pd.DataFrame(X_test)\n",
    "Y_test=pd.DataFrame(Y_test)"
   ]
  },
  {
   "cell_type": "code",
   "execution_count": 94,
   "metadata": {},
   "outputs": [],
   "source": [
    "X_train=(X_train-X_train.min())/(X_train.max()-X_train.min())\n",
    "Y_train=(Y_train-Y_train.min())/(Y_train.max()-Y_train.min())\n",
    "X_test=(X_test-X_test.min())/(X_test.max()-X_test.min())\n",
    "Y_test=(Y_test-Y_test.min())/(Y_test.max()-Y_test.min())"
   ]
  },
  {
   "cell_type": "code",
   "execution_count": 95,
   "metadata": {},
   "outputs": [],
   "source": [
    "X_train=X_train.drop(['year'],axis=1)\n",
    "X_test=X_test.drop(['year'],axis=1)"
   ]
  },
  {
   "cell_type": "code",
   "execution_count": 33,
   "metadata": {},
   "outputs": [
    {
     "name": "stdout",
     "output_type": "stream",
     "text": [
      "-0.005757155420906157\n"
     ]
    }
   ],
   "source": [
    "regr=LinearRegression()\n",
    "regr.fit(X_train,Y_train)\n",
    "pred=regr.predict(X_test)\n",
    "print(regr.score(X_test,Y_test))\n",
    "df_norm=pd.DataFrame(pred)\n",
    "df_norm=(df_norm-df_norm.min())/(df_norm.max()-df_norm.min())\n"
   ]
  },
  {
   "cell_type": "code",
   "execution_count": 34,
   "metadata": {},
   "outputs": [
    {
     "data": {
      "text/html": [
       "<div>\n",
       "<style scoped>\n",
       "    .dataframe tbody tr th:only-of-type {\n",
       "        vertical-align: middle;\n",
       "    }\n",
       "\n",
       "    .dataframe tbody tr th {\n",
       "        vertical-align: top;\n",
       "    }\n",
       "\n",
       "    .dataframe thead th {\n",
       "        text-align: right;\n",
       "    }\n",
       "</style>\n",
       "<table border=\"1\" class=\"dataframe\">\n",
       "  <thead>\n",
       "    <tr style=\"text-align: right;\">\n",
       "      <th></th>\n",
       "      <th>0</th>\n",
       "    </tr>\n",
       "  </thead>\n",
       "  <tbody>\n",
       "    <tr>\n",
       "      <th>25</th>\n",
       "      <td>1.000000</td>\n",
       "    </tr>\n",
       "    <tr>\n",
       "      <th>14</th>\n",
       "      <td>0.813523</td>\n",
       "    </tr>\n",
       "    <tr>\n",
       "      <th>18</th>\n",
       "      <td>0.361090</td>\n",
       "    </tr>\n",
       "    <tr>\n",
       "      <th>26</th>\n",
       "      <td>0.136340</td>\n",
       "    </tr>\n",
       "    <tr>\n",
       "      <th>29</th>\n",
       "      <td>0.122883</td>\n",
       "    </tr>\n",
       "  </tbody>\n",
       "</table>\n",
       "</div>"
      ],
      "text/plain": [
       "           0\n",
       "25  1.000000\n",
       "14  0.813523\n",
       "18  0.361090\n",
       "26  0.136340\n",
       "29  0.122883"
      ]
     },
     "execution_count": 34,
     "metadata": {},
     "output_type": "execute_result"
    }
   ],
   "source": [
    "df_norm.sort_values(by=[0],ascending=False).head(5)"
   ]
  },
  {
   "cell_type": "code",
   "execution_count": 37,
   "metadata": {},
   "outputs": [
    {
     "data": {
      "text/plain": [
       "0    0.0\n",
       "Name: 18, dtype: float64"
      ]
     },
     "execution_count": 37,
     "metadata": {},
     "output_type": "execute_result"
    }
   ],
   "source": [
    "Y_test.iloc[18]"
   ]
  },
  {
   "cell_type": "code",
   "execution_count": 96,
   "metadata": {},
   "outputs": [
    {
     "data": {
      "image/png": "[encoded data removed]",
      "text/plain": [
       "<Figure size 432x288 with 1 Axes>"
      ]
     },
     "metadata": {},
     "output_type": "display_data"
    }
   ],
   "source": [
    "from sklearn.datasets import make_regression\n",
    "from sklearn.linear_model import LinearRegression\n",
    "from matplotlib import pyplot\n",
    "\n",
    "#X, y = make_regression(n_samples=1000, n_features=10, n_informative=5, random_state=1)\n",
    "# define the model\n",
    "model = LinearRegression()\n",
    "# fit the model\n",
    "model.fit(X_train, Y_train)\n",
    "# get importance\n",
    "importance = model.coef_\n",
    "# summarize feature importance\n",
    "a=importance[0]\n",
    "a=sorted(a,reverse=True)\n",
    "\n",
    "b=importance[0]\n",
    "c=[col for col in X_train.columns]\n",
    "dic=dict()\n",
    "for i,v in enumerate(b):\n",
    "    if(v>=0):\n",
    "        dic[c[i]]=v\n",
    "a={k:v for k,v in sorted(dic.items(),reverse=True,key= lambda item:item[1])}\n",
    "\n",
    "\n",
    "pyplot.bar([x for x in range(len(importance[0]))], importance[0])\n",
    "pyplot.show()"
   ]
  },
  {
   "cell_type": "code",
   "execution_count": 97,
   "metadata": {},
   "outputs": [
    {
     "data": {
      "text/plain": [
       "{'other_actor_won': 0.9855017323429783,\n",
       " 'Oscar_Best_Actor_nominated': 0.06324872938362161,\n",
       " 'votes': 0.05318044008762556,\n",
       " 'awards_wins': 0.04983133005458443,\n",
       " 'Oscar_Best_Picture_nominated': 0.04197287360393406,\n",
       " 'rate': 0.04177916685167099,\n",
       " 'other_bestPicture_won': 0.03582823436534986,\n",
       " 'Oscar_Best_Actress_nominated': 0.02719888932365217,\n",
       " 'Oscar_Best_Director_nominated': 0.02449426575414817,\n",
       " 'other_bestPicture_nominated': 0.01709745161341842,\n",
       " 'other_actress_nominated': 0.011412544090177142,\n",
       " 'gross': 0.007869700528530093}"
      ]
     },
     "execution_count": 97,
     "metadata": {},
     "output_type": "execute_result"
    }
   ],
   "source": [
    "a"
   ]
  },
  {
   "cell_type": "code",
   "execution_count": 98,
   "metadata": {},
   "outputs": [
    {
     "data": {
      "text/plain": [
       "0       0.0\n",
       "1       0.0\n",
       "2       0.0\n",
       "3       0.0\n",
       "4       0.0\n",
       "       ... \n",
       "1148    0.0\n",
       "1149    0.0\n",
       "1150    0.0\n",
       "1151    0.0\n",
       "1152    0.0\n",
       "Name: 0, Length: 1153, dtype: float64"
      ]
     },
     "execution_count": 98,
     "metadata": {},
     "output_type": "execute_result"
    }
   ],
   "source": [
    "import matplotlib\n",
    "import matplotlib.pyplot as plt"
   ]
  },
  {
   "cell_type": "code",
   "execution_count": 77,
   "metadata": {},
   "outputs": [
    {
     "data": {
      "image/png": "[encoded data removed]",
      "text/plain": [
       "<Figure size 432x288 with 1 Axes>"
      ]
     },
     "metadata": {},
     "output_type": "display_data"
    }
   ],
   "source": [
    "matplotlib.style.use('ggplot')\n",
    "x=X_train['other_actor_won']\n",
    "y=Y_train[0]\n",
    "plt.scatter(x,y)\n",
    "plt.show()"
   ]
  },
  {
   "cell_type": "code",
   "execution_count": 81,
   "metadata": {},
   "outputs": [],
   "source": [
    "corrDf=pd.DataFrame(\n",
    ")"
   ]
  },
  {
   "cell_type": "code",
   "execution_count": 99,
   "metadata": {},
   "outputs": [],
   "source": [
    "corrDf['other_actor_won']=X_train['other_actor_won']\n",
    "corrDf['Oscar_Best_Actor_nominated']=X_train['Oscar_Best_Actor_nominated']\n",
    "corrDf['votes']=X_train['votes']\n",
    "corrDf['Oscar_Best_Picture_nominated']=X_train['Oscar_Best_Picture_nominated']\n",
    "corrDf['awards_wins']=X_train['awards_wins']\n",
    "corrDf['rate']=X_train['rate']\n",
    "corrDf['other_bestPicture_won']=X_train['other_bestPicture_won']\n",
    "corrDf['Oscar_Best_Actress_nominated']=X_train['Oscar_Best_Actress_nominated']\n",
    "corrDf['Oscar_Best_Director_nominated']=X_train['Oscar_Best_Director_nominated']\n",
    "corrDf['other_bestPicture_nominated']=X_train['other_bestPicture_nominated']\n",
    "corrDf['other_actress_nominated']=X_train['other_actress_nominated']\n",
    "corrDf['gross']=X_train['gross']\n",
    "corrDf['Oscar_Best_Actor_won']=Y_train[0]\n"
   ]
  },
  {
   "cell_type": "code",
   "execution_count": 100,
   "metadata": {},
   "outputs": [],
   "source": [
    "corr=corrDf.corr()"
   ]
  },
  {
   "cell_type": "code",
   "execution_count": 102,
   "metadata": {},
   "outputs": [
    {
     "data": {
      "image/png": "[encoded data removed]",
      "text/plain": [
       "<Figure size 432x288 with 2 Axes>"
      ]
     },
     "metadata": {},
     "output_type": "display_data"
    }
   ],
   "source": [
    "sns.heatmap(corr);"
   ]
  },
  {
   "cell_type": "code",
   "execution_count": null,
   "metadata": {},
   "outputs": [],
   "source": []
  }
 ],
 "metadata": {
  "kernelspec": {
   "display_name": "Python 3",
   "language": "python",
   "name": "python3"
  },
  "language_info": {
   "codemirror_mode": {
    "name": "ipython",
    "version": 3
   },
   "file_extension": ".py",
   "mimetype": "text/x-python",
   "name": "python",
   "nbconvert_exporter": "python",
   "pygments_lexer": "ipython3",
   "version": "3.7.6"
  }
 },
 "nbformat": 4,
 "nbformat_minor": 4
}
